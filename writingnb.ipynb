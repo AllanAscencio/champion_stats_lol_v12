{
 "cells": [
  {
   "cell_type": "code",
   "execution_count": 44,
   "metadata": {},
   "outputs": [
    {
     "name": "stdout",
     "output_type": "stream",
     "text": [
      "Ashe\n",
      "Marksman\n",
      "ADC\n",
      "B\n",
      "43.08\n",
      "-9.95\n",
      "49.66%\n",
      "93.40%\n",
      "6.03%\n",
      "1.11%\n",
      "2.32\n"
     ]
    }
   ],
   "source": [
    "import psycopg2\n",
    "\n",
    "conn = psycopg2.connect(database=\"games_db\", user='postgres', password=\"afrocs221994\")\n",
    "cursor = conn.cursor()\n",
    "cursor.execute(f\"SELECT * FROM champion_stats WHERE name ILIKE %s\", ('ashe',))\n",
    "champ = cursor.fetchone()\n",
    "for i in champ:\n",
    "    print(i)\n"
   ]
  },
  {
   "cell_type": "code",
   "execution_count": 20,
   "metadata": {},
   "outputs": [
    {
     "name": "stdout",
     "output_type": "stream",
     "text": [
      "('kda', 'numeric')\n",
      "('score', 'numeric')\n",
      "('trend', 'numeric')\n",
      "('tier', 'character varying')\n",
      "('ban_perc', 'character varying')\n",
      "('name', 'character varying')\n",
      "('win_perc', 'character varying')\n",
      "('role_perc', 'character varying')\n",
      "('pick_perc', 'character varying')\n",
      "('class', 'character varying')\n",
      "('role', 'character varying')\n"
     ]
    }
   ],
   "source": [
    "conn = psycopg2.connect(database=\"games_db\", user='postgres', password=\"afrocs221994\")\n",
    "cursor = conn.cursor()\n",
    "cursor.execute(\"SELECT column_name, data_type FROM INFORMATION_SCHEMA.COLUMNS WHERE table_name = 'champion_stats' \")\n",
    "champ = cursor.fetchall()\n",
    "for i in champ:\n",
    "    print(i)"
   ]
  },
  {
   "cell_type": "code",
   "execution_count": 18,
   "metadata": {},
   "outputs": [
    {
     "name": "stdout",
     "output_type": "stream",
     "text": [
      "['Aatrox', 'Ahri', 'Akali', 'Akali', 'Akshan', 'Akshan', 'Alistar', 'Amumu', 'Amumu', 'Anivia', 'Anivia', 'Annie', 'Aphelios', 'Ashe', 'Aurelion Sol', 'Azir', 'Bard', 'Blitzcrank', 'Brand', 'Brand', 'Braum', 'Caitlyn', 'Camille', 'Cassiopeia', 'Cassiopeia', \"Cho'Gath\", \"Cho'Gath\", 'Corki', 'Darius', 'Diana', 'Diana', 'Dr. Mundo', 'Draven', 'Ekko', 'Ekko', 'Elise', 'Evelynn', 'Ezreal', 'Fiddlesticks', 'Fiora', 'Fizz', 'Galio', 'Galio', 'Gangplank', 'Gangplank', 'Garen', 'Gnar', 'Gragas', 'Gragas', 'Gragas', 'Graves', 'Graves', 'Gwen', 'Gwen', 'Hecarim', 'Heimerdinger', 'Heimerdinger', 'Heimerdinger', 'Heimerdinger', 'Illaoi', 'Irelia', 'Irelia', 'Ivern', 'Janna', 'Jarvan IV', 'Jax', 'Jax', 'Jayce', 'Jayce', 'Jhin', 'Jinx', \"Kai'Sa\", 'Kalista', 'Karma', 'Karthus', 'Karthus', 'Karthus', 'Kassadin', 'Katarina', 'Kayle', 'Kayle', 'Kayn', 'Kennen', 'Kennen', \"Kha'Zix\", 'Kindred', 'Kled', 'Kled', \"Kog'Maw\", 'LeBlanc', 'Lee Sin', 'Leona', 'Lillia', 'Lillia', 'Lissandra', 'Lucian', 'Lulu', 'Lux', 'Lux', 'Malphite', 'Malphite', 'Malphite', 'Malzahar', 'Maokai', 'Maokai', 'Master Yi', 'Miss Fortune', 'Mordekaiser', 'Morgana', 'Nami', 'Nasus', 'Nautilus', 'Neeko', 'Neeko', 'Nidalee', 'Nocturne', 'Nunu', 'Olaf', 'Olaf', 'Orianna', 'Ornn', 'Pantheon', 'Pantheon', 'Pantheon', 'Poppy', 'Poppy', 'Pyke', 'Qiyana', 'Qiyana', 'Quinn', 'Rakan', 'Rammus', \"Rek'Sai\", 'Rell', 'Renekton', 'Renekton', 'Rengar', 'Rengar', 'Riven', 'Rumble', 'Rumble', 'Rumble', 'Ryze', 'Ryze', 'Samira', 'Sejuani', 'Sejuani', 'Senna', 'Senna', 'Seraphine', 'Seraphine', 'Seraphine', 'Sett', 'Shaco', 'Shaco', 'Shen', 'Shyvana', 'Shyvana', 'Singed', 'Sion', 'Sivir', 'Skarner', 'Skarner', 'Sona', 'Soraka', 'Swain', 'Swain', 'Swain', 'Sylas', 'Sylas', 'Syndra', 'Tahm Kench', 'Taliyah', 'Taliyah', 'Taliyah', 'Talon', 'Talon', 'Taric', 'Teemo', 'Thresh', 'Tristana', 'Tristana', 'Trundle', 'Trundle', 'Tryndamere', 'Tryndamere', 'Twisted Fate', 'Twitch', 'Udyr', 'Urgot', 'Varus', 'Vayne', 'Vayne', 'Veigar', 'Veigar', 'Veigar', \"Vel'Koz\", \"Vel'Koz\", 'Vex', 'Vex', 'Vi', 'Viego', 'Viktor', 'Viktor', 'Vladimir', 'Vladimir', 'Volibear', 'Volibear', 'Warwick', 'Warwick', 'Wukong', 'Wukong', 'Xayah', 'Xerath', 'Xerath', 'Xin Zhao', 'Yasuo', 'Yasuo', 'Yasuo', 'Yone', 'Yone', 'Yorick', 'Yuumi', 'Zac', 'Zed', 'Zed', 'Ziggs', 'Ziggs', 'Zilean', 'Zilean', 'Zoe', 'Zyra']\n"
     ]
    }
   ],
   "source": [
    "conn = psycopg2.connect(database=\"games_db\", user='postgres', password=\"afrocs221994\")\n",
    "cursor = conn.cursor()\n",
    "cursor.execute(\"SELECT name from champion_stats\")\n",
    "champion_stats = cursor.fetchall()\n",
    "list_test = []\n",
    "for i in champion_stats:\n",
    "    list_test.append(i[0])\n",
    "print(list(tuple(list_test)))"
   ]
  },
  {
   "cell_type": "code",
   "execution_count": null,
   "metadata": {},
   "outputs": [],
   "source": [
    "class Champion:\n",
    "    def __init__(self):\n",
    "        self.name = \"\"\n",
    "        self.class_type = \"\"\n",
    "        self.role = \"\"\n",
    "        self.tier = \"\" \n",
    "        self.score = \"\"\n",
    "        self.trend = \"\"\n",
    "        self.win_perc = \"\"\n",
    "        \n",
    "        attributes = ['name', 'wathever']\n",
    "        for attr, values in something:\n",
    "            "
   ]
  },
  {
   "cell_type": "code",
   "execution_count": 83,
   "metadata": {},
   "outputs": [
    {
     "name": "stdout",
     "output_type": "stream",
     "text": [
      "john_doe\n",
      "john_doe\n",
      "john_doe\n",
      "john_doe\n",
      "john_doe\n"
     ]
    },
    {
     "data": {
      "text/plain": [
       "True"
      ]
     },
     "execution_count": 83,
     "metadata": {},
     "output_type": "execute_result"
    }
   ],
   "source": [
    "from peewee import Model, PostgresqlDatabase, CharField\n",
    "\n",
    "# Define the PostgreSQL database connection\n",
    "database = PostgresqlDatabase('games_db', user='postgres', password='afrocs221994')\n",
    "\n",
    "# Define a model\n",
    "class User(Model):\n",
    "    username = CharField()\n",
    "\n",
    "    class Meta:\n",
    "        database = database\n",
    "\n",
    "# Connect to the database\n",
    "database.connect()\n",
    "\n",
    "# Create tables\n",
    "database.create_tables([User])\n",
    "\n",
    "# Example usage\n",
    "new_user = User.create(username='john_doe')\n",
    "\n",
    "# Query the database\n",
    "query_result = User.select().where(User.username == 'john_doe')\n",
    "for user in query_result:\n",
    "    print(user.username)\n",
    "\n",
    "# Close the database connection\n",
    "database.close()"
   ]
  },
  {
   "cell_type": "code",
   "execution_count": 84,
   "metadata": {},
   "outputs": [],
   "source": [
    "import psycopg2\n",
    "# from migration.settings import DB_NAME, DB_PASSWORD, DB_USER\n",
    "from migration.settings import DB_NAME, DB_PASSWORD, DB_USER\n",
    "from decimal import Decimal\n",
    "\n",
    "\n",
    "class Champion:\n",
    "    @staticmethod\n",
    "    def all_stats():\n",
    "        conn = psycopg2.connect(database=\"games_db\", user='postgres', password=\"afrocs221994\")\n",
    "        cursor = conn.cursor()\n",
    "        cursor.execute(\"SELECT column_name FROM INFORMATION_SCHEMA.COLUMNS WHERE table_name = 'champion_stats'\")\n",
    "        stats = cursor.fetchall()\n",
    "        cleaned_stats = [item[0] for item in stats]\n",
    "        return cleaned_stats\n",
    "\n",
    "    @staticmethod\n",
    "    def search_champ_stats(champ_name):\n",
    "        stats = Champion.all_stats()\n",
    "        conn = psycopg2.connect(database=\"games_db\", user='postgres', password=\"afrocs221994\")\n",
    "        cursor = conn.cursor()\n",
    "        cursor.execute(f\"SELECT * FROM champion_stats WHERE name ILIKE %s\", (champ_name,))\n",
    "        champ = cursor.fetchone()\n",
    "        if champ:\n",
    "            result_dict = {stat[0]: Champion.clean_stat_value(stat[1]) for stat in zip(stats, champ)}\n",
    "            return result_dict\n",
    "        else:\n",
    "            return None\n",
    "        \n",
    "    @staticmethod\n",
    "    def clean_stat_value(value):\n",
    "        if isinstance(value, Decimal):\n",
    "            return f'{value:.2f}%'\n",
    "        else:\n",
    "            return value\n",
    "\n",
    "    @staticmethod\n",
    "    def all_champs_name():\n",
    "        conn = psycopg2.connect(database=\"games_db\", user='postgres', password=\"afrocs221994\")\n",
    "        cursor = conn.cursor()\n",
    "        cursor.execute(\"SELECT name FROM champion_stats\")\n",
    "        champions = cursor.fetchall()\n",
    "        if champions:\n",
    "            result_dict = [champ[0] for champ in champions]\n",
    "            return result_dict\n",
    "        else:\n",
    "            return None"
   ]
  },
  {
   "cell_type": "code",
   "execution_count": 89,
   "metadata": {},
   "outputs": [
    {
     "name": "stdout",
     "output_type": "stream",
     "text": [
      "['Aurelion Sol', 'Annie', 'Zilean', 'Brand', 'Jhin']\n"
     ]
    }
   ],
   "source": [
    "import random\n",
    "final = sorted(list(set(Champion.all_champs_name())))\n",
    "print(random.sample(final,5)"
   ]
  },
  {
   "cell_type": "code",
   "execution_count": 92,
   "metadata": {},
   "outputs": [
    {
     "name": "stdout",
     "output_type": "stream",
     "text": [
      "Aurelion Sol\n",
      "Mage\n",
      "MID\n",
      "B\n",
      "42.15%\n",
      "-2.74%\n",
      "50.81%\n",
      "91.23%\n",
      "0.89%\n",
      "0.25%\n",
      "2.55%\n",
      "Annie\n",
      "Mage\n",
      "MID\n",
      "A\n",
      "48.81%\n",
      "6.23%\n",
      "52.45%\n",
      "85.00%\n",
      "2.17%\n",
      "0.71%\n",
      "2.39%\n",
      "Zilean\n",
      "Support\n",
      "MID\n",
      "A\n",
      "52.20%\n",
      "1.35%\n",
      "54.19%\n",
      "14.12%\n",
      "0.56%\n",
      "1.40%\n",
      "3.46%\n",
      "Brand\n",
      "Mage\n",
      "SUPPORT\n",
      "B\n",
      "45.21%\n",
      "-4.17%\n",
      "49.18%\n",
      "79.04%\n",
      "4.68%\n",
      "5.87%\n",
      "1.77%\n",
      "Jhin\n",
      "Marksman\n",
      "ADC\n",
      "God\n",
      "94.23%\n",
      "3.23%\n",
      "51.03%\n",
      "99.02%\n",
      "24.55%\n",
      "5.81%\n",
      "3.01%\n"
     ]
    }
   ],
   "source": [
    "for i in ['Aurelion Sol', 'Annie', 'Zilean', 'Brand', 'Jhin']:\n",
    "    for k,v in Champion.search_champ_stats(i).items():\n",
    "        print(v)"
   ]
  },
  {
   "cell_type": "code",
   "execution_count": null,
   "metadata": {},
   "outputs": [],
   "source": [
    "def test_all_champs():\n",
    "    champ_list = list(set(Champion.all_stats()))\n",
    "    assert len(champ_list) == 157"
   ]
  }
 ],
 "metadata": {
  "kernelspec": {
   "display_name": "Python 3",
   "language": "python",
   "name": "python3"
  },
  "language_info": {
   "codemirror_mode": {
    "name": "ipython",
    "version": 3
   },
   "file_extension": ".py",
   "mimetype": "text/x-python",
   "name": "python",
   "nbconvert_exporter": "python",
   "pygments_lexer": "ipython3",
   "version": "3.11.0"
  }
 },
 "nbformat": 4,
 "nbformat_minor": 2
}
